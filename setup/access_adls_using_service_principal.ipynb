{
 "cells": [
  {
   "cell_type": "markdown",
   "metadata": {
    "application/vnd.databricks.v1+cell": {
     "cellMetadata": {},
     "inputWidgets": {},
     "nuid": "ab68f173-f0b1-4ce9-b288-a382212c08e3",
     "showTitle": false,
     "tableResultSettingsMap": {},
     "title": ""
    }
   },
   "source": [
    "\n",
    "#Service Principal & Secrect keys\n",
    "Unfortunately, because of my access in Azure, I am unable to use service principals and secret access keys, but I did want to demonstrate below my ability to do so if needed.\n"
   ]
  },
  {
   "cell_type": "code",
   "execution_count": 0,
   "metadata": {
    "application/vnd.databricks.v1+cell": {
     "cellMetadata": {},
     "inputWidgets": {},
     "nuid": "ce132f70-2b62-4f87-ac33-e83cba2f36ab",
     "showTitle": false,
     "tableResultSettingsMap": {},
     "title": ""
    }
   },
   "outputs": [],
   "source": [
    "# Databricks notebook source\n",
    "# MAGIC %md\n",
    "# MAGIC ### Access Azure Data Lake using Service Principal\n",
    "# MAGIC #### Steps to follow\n",
    "# MAGIC 1. Register Azure AD Application / Service Principal\n",
    "# MAGIC 2. Generate a secret/ password for the Application\n",
    "# MAGIC 3. Set Spark Config with App/ Client Id, Directory/ Tenant Id & Secret\n",
    "# MAGIC 4. Assign Role 'Storage Blob Data Contributor' to the Data Lake. \n",
    "\n",
    "\n",
    "client_id = dbutils.secrets.get(scope = '####', key = '###')\n",
    "tenant_id = dbutils.secrets.get(scope = '####', key = '####')\n",
    "client_secret = dbutils.secrets.get(scope = '####', key = '####')\n",
    "\n",
    "\n",
    "spark.conf.set(\"fs.azure.account.auth.type.####.dfs.core.windows.net\", \"OAuth\")\n",
    "spark.conf.set(\"fs.azure.account.oauth.provider.type.####.dfs.core.windows.net\", \"org.apache.hadoop.fs.azurebfs.oauth2.ClientCredsTokenProvider\")\n",
    "spark.conf.set(\"fs.azure.account.oauth2.client.id.####.dfs.core.windows.net\", client_id)\n",
    "spark.conf.set(\"fs.azure.account.oauth2.client.secret.####.dfs.core.windows.net\", client_secret)\n",
    "spark.conf.set(\"fs.azure.account.oauth2.client.endpoint.####.dfs.core.windows.net\", f\"https://login.microsoftonline.com/{tenant_id}/oauth2/token\")\n",
    "\n",
    "\n",
    "display(dbutils.fs.ls(\"abfss://####@####.dfs.core.windows.net\"))\n",
    "\n",
    "\n",
    "display(spark.read.csv(\"abfss://####@####.dfs.core.windows.net/circuits.csv\"))\n",
    "\n"
   ]
  }
 ],
 "metadata": {
  "application/vnd.databricks.v1+notebook": {
   "computePreferences": null,
   "dashboards": [],
   "environmentMetadata": {
    "base_environment": "",
    "environment_version": "2"
   },
   "language": "python",
   "notebookMetadata": {
    "pythonIndentUnit": 4
   },
   "notebookName": "access_adls_using_service_principal",
   "widgets": {}
  },
  "language_info": {
   "name": "python"
  }
 },
 "nbformat": 4,
 "nbformat_minor": 0
}
