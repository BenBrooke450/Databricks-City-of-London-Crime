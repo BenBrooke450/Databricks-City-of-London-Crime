{
 "cells": [
  {
   "cell_type": "code",
   "execution_count": 0,
   "metadata": {
    "application/vnd.databricks.v1+cell": {
     "cellMetadata": {
      "byteLimit": 2048000,
      "rowLimit": 10000
     },
     "inputWidgets": {},
     "nuid": "abef3fa8-412c-48e5-9d3f-a42d027a404a",
     "showTitle": true,
     "tableResultSettingsMap": {},
     "title": "Configure Access"
    }
   },
   "outputs": [],
   "source": [
    "# Databricks notebook source\n",
    "# MAGIC %md\n",
    "# MAGIC #### Access Azure Data Lake using access keys\n",
    "# MAGIC 1. Set the spark config fs.azure.account.key\n",
    "# MAGIC 1. List files from demo container\n",
    "# MAGIC 1. Read data from circuits.csv file\n",
    "\n",
    "spark.conf.set(\n",
    "  \"fs.azure.account.key.cityoflondoncrime.blob.core.windows.net\",\n",
    "  \"hXnMffy5t5WjiqWB1nZZpBnjnhrvvz4cGIhXSHnT9/CAAFuhkpg5ZmqvMWtcXTeGxDZHsXjSGdQ6+AStzjkEjg==\"\n",
    ")\n"
   ]
  },
  {
   "cell_type": "markdown",
   "metadata": {
    "application/vnd.databricks.v1+cell": {
     "cellMetadata": {},
     "inputWidgets": {},
     "nuid": "78d79bbc-bfdb-4910-a212-0dbd70123c38",
     "showTitle": false,
     "tableResultSettingsMap": {},
     "title": ""
    }
   },
   "source": [
    "Unfortunately, I am unable to use secret access keys because of my type of subscription, but I did wish to demonstrate my ability to do so."
   ]
  },
  {
   "cell_type": "code",
   "execution_count": 0,
   "metadata": {
    "application/vnd.databricks.v1+cell": {
     "cellMetadata": {},
     "inputWidgets": {},
     "nuid": "e315ab96-a437-4a5f-900e-c25ee351f525",
     "showTitle": true,
     "tableResultSettingsMap": {},
     "title": "Secret Access key"
    }
   },
   "outputs": [],
   "source": [
    "#formula1dl_account_key = dbutils.secrets.get(scope = '######', key = '####')"
   ]
  },
  {
   "cell_type": "code",
   "execution_count": 0,
   "metadata": {
    "application/vnd.databricks.v1+cell": {
     "cellMetadata": {
      "byteLimit": 2048000,
      "rowLimit": 10000
     },
     "inputWidgets": {},
     "nuid": "e936376f-35e1-45df-bb15-6df5a26d7da7",
     "showTitle": false,
     "tableResultSettingsMap": {},
     "title": ""
    }
   },
   "outputs": [
    {
     "output_type": "display_data",
     "data": {
      "text/plain": [
       ""
      ]
     },
     "metadata": {
      "application/vnd.databricks.v1+output": {
       "addedWidgets": {},
       "arguments": {},
       "datasetInfos": [],
       "jupyterProps": null,
       "metadata": {
        "errorSummary": "Command skipped"
       },
       "removedWidgets": [],
       "sqlProps": null,
       "stackFrames": [],
       "type": "baseError"
      }
     },
     "output_type": "display_data"
    }
   ],
   "source": [
    "#Checking what is mounted\n",
    "dbutils.fs.ls(\"/mnt/bronze\")"
   ]
  },
  {
   "cell_type": "code",
   "execution_count": 0,
   "metadata": {
    "application/vnd.databricks.v1+cell": {
     "cellMetadata": {
      "byteLimit": 2048000,
      "rowLimit": 10000
     },
     "inputWidgets": {},
     "nuid": "d3f9a0cb-5739-4b42-8b45-32ae218cddaf",
     "showTitle": true,
     "tableResultSettingsMap": {},
     "title": "Testing"
    }
   },
   "outputs": [],
   "source": [
    "#Testing the configuration\n",
    "df = spark.read.csv(\"dbfs:/mnt/bronze/2024-01-city-of-london-street.csv\", header=True, inferSchema=True)"
   ]
  }
 ],
 "metadata": {
  "application/vnd.databricks.v1+notebook": {
   "computePreferences": null,
   "dashboards": [],
   "environmentMetadata": {
    "base_environment": "",
    "environment_version": "2"
   },
   "language": "python",
   "notebookMetadata": {
    "pythonIndentUnit": 4
   },
   "notebookName": "access_adls_using_access_keys",
   "widgets": {}
  },
  "language_info": {
   "name": "python"
  }
 },
 "nbformat": 4,
 "nbformat_minor": 0
}